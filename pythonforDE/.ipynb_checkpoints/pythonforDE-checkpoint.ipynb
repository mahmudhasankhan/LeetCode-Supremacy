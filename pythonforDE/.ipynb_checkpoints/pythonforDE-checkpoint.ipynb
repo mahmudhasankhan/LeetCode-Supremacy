{
 "cells": [
  {
   "cell_type": "markdown",
   "id": "d968c4d6-8c76-402e-8764-ed3ab26a55bb",
   "metadata": {},
   "source": [
    "## Python for Data Engineering\n",
    "\n",
    "Python plays a crucial role in the world of data engineering, offering versatile and powerful libraries. It has been adopted in various domains, including data science, machine learning, AI, data visualization, and data engineering. Python is widely used in big data processing through frameworks like Apache Spark, workflow orchestration, web scraping, and more. In this post, I’ll present the useful elements of this language and its use cases for data engineering."
   ]
  },
  {
   "cell_type": "markdown",
   "id": "82542d6a-1e12-4f6a-9558-4b61771fcbf4",
   "metadata": {},
   "source": [
    "A little walkthrough with some built-in data structures that python provides. \n",
    "- list\n",
    "- tuple\n",
    "- dictionary\n",
    "- set"
   ]
  },
  {
   "cell_type": "markdown",
   "id": "6a2f94ec-0b6d-4e90-8895-d0b439b5ab4b",
   "metadata": {},
   "source": [
    "### list\n",
    "\n",
    "Mutable: Lists are mutable, meaning you can modify their elements after the list is created. You can add, remove, or modify elements."
   ]
  },
  {
   "cell_type": "code",
   "execution_count": 1,
   "id": "f8a36620-08af-4786-8329-44879ec9c699",
   "metadata": {},
   "outputs": [],
   "source": [
    "my_list = [1, 2, 3, 'a', 'b', 'c']\n",
    "my_list.append(4)     # Adds 4 to the end of the list\n",
    "my_list.remove('a')  # Removes the element 'a'"
   ]
  },
  {
   "cell_type": "code",
   "execution_count": 2,
   "id": "cd3f123c-c0dd-4e84-a675-45e19ba8df63",
   "metadata": {},
   "outputs": [
    {
     "name": "stdout",
     "output_type": "stream",
     "text": [
      "[1, 2, 3, 'b', 'c', 4]\n"
     ]
    }
   ],
   "source": [
    "print(my_list)"
   ]
  },
  {
   "cell_type": "markdown",
   "id": "bd7435cb-e808-41d3-abe8-5f438d68e6b1",
   "metadata": {},
   "source": [
    "### List Operations\n",
    "**Some useful operations you can use with lists:**\n",
    "- list comprehension\n",
    "- filer\n",
    "- map\n",
    "- reduce"
   ]
  },
  {
   "cell_type": "markdown",
   "id": "11a084c1-14ea-4018-a6d5-0b5dfd2bbe6a",
   "metadata": {},
   "source": [
    "#### list comprehension\n",
    "List comprehension offers a shorter syntax when you want to create a new list based on the values of an existing list. This allows you to simplify code."
   ]
  },
  {
   "cell_type": "code",
   "execution_count": 9,
   "id": "ae0d0e34-007a-41fc-b236-a0508464bb55",
   "metadata": {},
   "outputs": [
    {
     "name": "stdout",
     "output_type": "stream",
     "text": [
      "[0, 1, 8, 27, 64, 125, 216, 343, 512, 729]\n"
     ]
    }
   ],
   "source": [
    "cubes = []\n",
    "\n",
    "# normal syntax\n",
    "for i in range(10):\n",
    "    cubes.append(i**3)\n",
    "print(cubes)"
   ]
  },
  {
   "cell_type": "code",
   "execution_count": 10,
   "id": "d59cbbfa-81b3-4507-950b-c08235827c33",
   "metadata": {},
   "outputs": [
    {
     "name": "stdout",
     "output_type": "stream",
     "text": [
      "[0, 1, 8, 27, 64, 125, 216, 343, 512, 729]\n"
     ]
    }
   ],
   "source": [
    "# with list comprehension\n",
    "\n",
    "cubes = [i**3 for i in range(10)]\n",
    "print(cubes)"
   ]
  },
  {
   "cell_type": "markdown",
   "id": "58641c60-d656-4cb1-9430-05c0e795f234",
   "metadata": {},
   "source": [
    "#### Filter\n",
    "Filter as the name suggests helps to filter your list using filter conditions."
   ]
  },
  {
   "cell_type": "code",
   "execution_count": 11,
   "id": "a4c8a111-4274-49d9-a45e-0ad71f18e73b",
   "metadata": {},
   "outputs": [],
   "source": [
    "numbers = [1, 2, 3, 4, 5, 6, 7, 8, 9]\n",
    "\n",
    "# Filter even numbers\n",
    "even_numbers = list(filter(lambda x: x % 2 == 0, numbers))\n",
    "# Output: [2, 4, 6, 8]"
   ]
  },
  {
   "cell_type": "code",
   "execution_count": 12,
   "id": "5e282a04-45ba-48c2-a5a0-bfb64d10a2a3",
   "metadata": {},
   "outputs": [
    {
     "name": "stdout",
     "output_type": "stream",
     "text": [
      "[2, 4, 6, 8]\n"
     ]
    }
   ],
   "source": [
    "print(even_numbers)"
   ]
  },
  {
   "cell_type": "markdown",
   "id": "ad9c94a0-111b-439f-827b-dc755ea227bc",
   "metadata": {
    "jp-MarkdownHeadingCollapsed": true
   },
   "source": [
    "#### Lambda Function\n",
    "We're taking a quick detour from our course as we've encountered anonymous function(lambda function).\n",
    "\n",
    "```\n",
    "lambda x: x % 2 == 0, numbers)\n",
    "```\n",
    "This is an anonymous function (lambda function) that takes an input `x` and returns `True` if `x` is even `(x % 2 == 0)`, otherwise `False`.\n",
    "\n",
    "The `filter` function works hand in hand here taking the lambda function as input and applies it to each element in `numbers`. \n",
    "** It keeps only the elements for which the lambda function returns True (i.e., even numbers)."
   ]
  },
  {
   "cell_type": "code",
   "execution_count": 13,
   "id": "9fddf58c-8a47-46aa-acb3-89711a2028ef",
   "metadata": {},
   "outputs": [],
   "source": [
    "# we could use a regular function instead of a lamdba function\n",
    "\n",
    "def is_even(x):\n",
    "    return x%2 == 0"
   ]
  },
  {
   "cell_type": "code",
   "execution_count": 14,
   "id": "b5ceec96-c148-4190-a1d4-8846ed3e0323",
   "metadata": {},
   "outputs": [
    {
     "name": "stdout",
     "output_type": "stream",
     "text": [
      "True\n"
     ]
    }
   ],
   "source": [
    "print(is_even(10))"
   ]
  },
  {
   "cell_type": "code",
   "execution_count": 22,
   "id": "0268bad8-64f9-471e-ab4b-fc0c1233bc36",
   "metadata": {},
   "outputs": [],
   "source": [
    "result = filter(is_even, numbers) # filter() returns a filter object(an iterator)"
   ]
  },
  {
   "cell_type": "markdown",
   "id": "cd6a9b7c-76b8-4dc8-8edf-f8577a367d88",
   "metadata": {},
   "source": [
    "N.B: **By definition, an iterator can be iterated through once, producing all values, and is then exhausted.**"
   ]
  },
  {
   "cell_type": "code",
   "execution_count": 23,
   "id": "93ce5479-942a-477c-949f-d586c0ad7d92",
   "metadata": {},
   "outputs": [
    {
     "data": {
      "text/plain": [
       "<filter at 0x7939b814d5a0>"
      ]
     },
     "execution_count": 23,
     "metadata": {},
     "output_type": "execute_result"
    }
   ],
   "source": [
    "result"
   ]
  },
  {
   "cell_type": "code",
   "execution_count": 24,
   "id": "d6d015e5-1f6a-4c2a-8d02-527ceffc411b",
   "metadata": {},
   "outputs": [
    {
     "name": "stdout",
     "output_type": "stream",
     "text": [
      "2\n",
      "4\n",
      "6\n",
      "8\n"
     ]
    }
   ],
   "source": [
    "for i in result:\n",
    "    print(i)"
   ]
  },
  {
   "cell_type": "code",
   "execution_count": 25,
   "id": "164a0d43-933e-4af7-9d2b-3f72223a2353",
   "metadata": {},
   "outputs": [
    {
     "name": "stdout",
     "output_type": "stream",
     "text": [
      "[2, 4, 6, 8]\n"
     ]
    }
   ],
   "source": [
    "# or we can use list() to convert it into a list\n",
    "even_num = list(filter(is_even, numbers))\n",
    "print(even_num)"
   ]
  },
  {
   "cell_type": "markdown",
   "id": "4d882438-7a3a-4c68-910a-94b85450ca4e",
   "metadata": {
    "jp-MarkdownHeadingCollapsed": true
   },
   "source": [
    "#### Map\n",
    "The Map function allows us to use a function on a list of elements."
   ]
  },
  {
   "cell_type": "code",
   "execution_count": 26,
   "id": "13f82811-204c-4be0-a81e-20a8e938fab9",
   "metadata": {},
   "outputs": [],
   "source": [
    "def power2(val: int) -> int:\n",
    "    return val*val\n",
    "\n",
    "numbers = [1, 2, 3, 4, 5]\n",
    "\n",
    "power_numbers = list(map(power2, numbers))\n",
    "# OR\n",
    "squared_numbers = list(map(lambda x: x**2, numbers))\n",
    "\n",
    "# Output: [1, 4, 9, 16, 25]"
   ]
  },
  {
   "cell_type": "code",
   "execution_count": 27,
   "id": "cecf3dc6-d042-425b-b446-831c54ca22f6",
   "metadata": {},
   "outputs": [
    {
     "name": "stdout",
     "output_type": "stream",
     "text": [
      "[1, 2, 3, 4, 5]\n"
     ]
    }
   ],
   "source": [
    "print(numbers)"
   ]
  },
  {
   "cell_type": "code",
   "execution_count": 28,
   "id": "d165e5ed-9233-47f6-9323-8ed2c790e369",
   "metadata": {},
   "outputs": [
    {
     "name": "stdout",
     "output_type": "stream",
     "text": [
      "[1, 4, 9, 16, 25]\n"
     ]
    }
   ],
   "source": [
    "print(squared_numbers)"
   ]
  },
  {
   "cell_type": "markdown",
   "id": "40dd1acd-89ae-4be7-8137-f36357242f7a",
   "metadata": {
    "jp-MarkdownHeadingCollapsed": true
   },
   "source": [
    "#### reduce\n",
    "\n",
    "The `reduce()` function is a powerful tool in Python that operates on a list (or any iterable), applies a function to its elements, and ‘reduces’ them to a single output."
   ]
  },
  {
   "cell_type": "code",
   "execution_count": 39,
   "id": "196fefdf-8e03-4add-b9e0-7dc43fd3d9eb",
   "metadata": {},
   "outputs": [
    {
     "name": "stdout",
     "output_type": "stream",
     "text": [
      "{'apple': 2, 'banana': 2, 'orange': 1, 'grape': 1}\n",
      "120\n"
     ]
    }
   ],
   "source": [
    "from functools import reduce\n",
    "\n",
    "words = [\"apple\", \"banana\", \"orange\", \"apple\", \"grape\", \"banana\"]\n",
    "\n",
    "# Count the occurrences of each word\n",
    "word_counts = reduce(lambda counts, word: {**counts, word: counts.get(word, 0) + 1}, words, {})\n",
    "\n",
    "print(word_counts)\n",
    "# Output: {'apple': 2, 'banana': 2, 'orange': 1, 'grape': 1}\n",
    "\n",
    "\n",
    "numbers = [1, 2, 3, 4, 5]\n",
    "product = reduce((lambda x, y: x * y), numbers)\n",
    "print(product)\n",
    "\n",
    "# Output: 120"
   ]
  },
  {
   "cell_type": "markdown",
   "id": "9e36c7d5-a574-453e-bb39-3ad584396897",
   "metadata": {},
   "source": [
    "### Dictionary\n",
    "Dictionaries are used to store data values in key-value pairs. A dictionary is a collection that is changeable and does not allow duplicates in the keys."
   ]
  },
  {
   "cell_type": "code",
   "execution_count": 4,
   "id": "b81b9616-1225-422b-a98f-c05b7f5b4875",
   "metadata": {},
   "outputs": [],
   "source": [
    "thisdict = {\n",
    "  \"brand\": \"Ford\",\n",
    "  \"model\": \"Mustang\",\n",
    "  \"year\": 1964\n",
    "}"
   ]
  },
  {
   "cell_type": "code",
   "execution_count": 5,
   "id": "55cb12e0-918c-4dec-8136-d0d14aae72ac",
   "metadata": {},
   "outputs": [
    {
     "name": "stdout",
     "output_type": "stream",
     "text": [
      "{'brand': 'Ford', 'model': 'Mustang', 'year': 1964}\n"
     ]
    }
   ],
   "source": [
    "print(thisdict)"
   ]
  },
  {
   "cell_type": "markdown",
   "id": "84d599a7-1304-4c00-b724-3c2df5f9bc59",
   "metadata": {},
   "source": [
    "### Tuple\n",
    "Immutable: Tuples are immutable, meaning once they are created, their elements cannot be changed or modified. Unlike lists, you can’t add or remove elements from a tuple."
   ]
  },
  {
   "cell_type": "code",
   "execution_count": 1,
   "id": "a5c4347f-1588-452c-b480-af9eef436fa4",
   "metadata": {},
   "outputs": [],
   "source": [
    "my_tuple = (1, 2, 3, 'a', 'b', 'c')"
   ]
  },
  {
   "cell_type": "markdown",
   "id": "7d7d65b9-3dab-4c2d-ac62-c4d20ac45cde",
   "metadata": {},
   "source": [
    "### Set\n",
    "Unordered and Unique Elements: Sets are unordered collections of unique elements. They do not allow duplicate values, and the order of elements is not guaranteed.\n",
    "\n",
    "Syntax: Defined using curly braces {} or by using the set() constructor."
   ]
  },
  {
   "cell_type": "code",
   "execution_count": 7,
   "id": "398df706-3fe0-4bd0-b04e-9ab587ab054d",
   "metadata": {},
   "outputs": [
    {
     "name": "stdout",
     "output_type": "stream",
     "text": [
      "{1, 2, 3}\n"
     ]
    }
   ],
   "source": [
    "my_set = {1, 2, 3}\n",
    "my_set.add(1)\n",
    "my_set.add(1) # won't add 1 to the set\n",
    "print(my_set)"
   ]
  },
  {
   "cell_type": "markdown",
   "id": "f2fe1453-8e79-4da5-9cd1-6d3135a40227",
   "metadata": {},
   "source": [
    "### Generators\n",
    "Python provides a generator to create your iterator function. A generator is a special type of function that does not return a single value, instead, it returns an iterator object with a sequence of values. In a generator function, a yield keyword is used instead of a return. It allows you to create an iterator without loading the entire dataset into memory, making it suitable for processing huge files.\n",
    "\n",
    "Benefits of generators:\n",
    "- Memory efficient: Only stores the current value, not the entire list.\n",
    "- Faster Execution: Generates values on demand, reducing overhead.\n",
    "- Lazy Evaluation: Useful for large datasets or infinite sequences.\n",
    "- Better Performance: Avoids creating large lists in memory.\n",
    "\n",
    "When to use generators?\n",
    "- when dealing with large datasets (ex. reading big files line by line)\n",
    "- when you don't need to store all values at once \n",
    "- when you need lazy evaluation. (streaming data)"
   ]
  },
  {
   "cell_type": "code",
   "execution_count": 42,
   "id": "a606ea05-a227-424b-8724-445d0e00e919",
   "metadata": {},
   "outputs": [],
   "source": [
    "text = \"\"\"\n",
    "transaction_id,user\\r\n",
    "1,aaa\\r\n",
    "\\r\n",
    "2,xx\\r\n",
    "3,ccc\\r\n",
    "\\r\n",
    "\"\"\""
   ]
  },
  {
   "cell_type": "code",
   "execution_count": 44,
   "id": "d2296959-7776-4ba7-b384-14355f27a82a",
   "metadata": {},
   "outputs": [
    {
     "name": "stdout",
     "output_type": "stream",
     "text": [
      "\n",
      "transaction_id,user\n",
      "1,aaa\n",
      "\n",
      "2,xx\n",
      "3,ccc\n",
      "\n",
      "\n"
     ]
    }
   ],
   "source": [
    "print(text) # this is how it looks"
   ]
  },
  {
   "cell_type": "code",
   "execution_count": 49,
   "id": "6c6b1567-2334-432e-bcb4-36c6b4aca357",
   "metadata": {},
   "outputs": [
    {
     "data": {
      "text/plain": [
       "'TRANSACTION_ID,USER'"
      ]
     },
     "execution_count": 49,
     "metadata": {},
     "output_type": "execute_result"
    }
   ],
   "source": [
    "text.split(\"\\r\")[0].strip().upper() # e.g. of a processed line"
   ]
  },
  {
   "cell_type": "code",
   "execution_count": 63,
   "id": "8a110b95-360e-4ee1-b063-797696dc35d7",
   "metadata": {},
   "outputs": [],
   "source": [
    "# creating a generator function\n",
    "def process_large_files(text):\n",
    "    for line in text.split(\"\\r\"):\n",
    "        processed_line = line.strip().upper()\n",
    "        # print(\"begin processing\")\n",
    "        if processed_line != \"\":\n",
    "            # Yield the processed line\n",
    "            yield processed_line"
   ]
  },
  {
   "cell_type": "code",
   "execution_count": 64,
   "id": "901b380e-53b0-435c-b848-7453aaa91ae3",
   "metadata": {},
   "outputs": [
    {
     "name": "stdout",
     "output_type": "stream",
     "text": [
      "TRANSACTION_ID,USER\n",
      "1,AAA\n",
      "2,XX\n",
      "3,CCC\n"
     ]
    }
   ],
   "source": [
    "for processed_line in process_large_files(text):\n",
    "    print(processed_line)"
   ]
  },
  {
   "cell_type": "markdown",
   "id": "7af4deff-a6c3-4028-b782-8178bce9f67c",
   "metadata": {},
   "source": [
    "### Enumerate\n",
    "The enumerate function adds a counter to an iterable and returns it."
   ]
  },
  {
   "cell_type": "code",
   "execution_count": 41,
   "id": "508f1ca7-7daf-4633-9346-768eb307b0f2",
   "metadata": {},
   "outputs": [
    {
     "name": "stdout",
     "output_type": "stream",
     "text": [
      "Index: 0  Value: a\n",
      "Index: 1  Value: b\n",
      "Index: 2  Value: c\n",
      "Index: 3  Value: d\n",
      "Index: 4  Value: e\n",
      "\n",
      "Index: 0  Value: a\n",
      "Index: 1  Value: b\n",
      "Index: 2  Value: c\n",
      "Index: 3  Value: d\n",
      "Index: 4  Value: e\n"
     ]
    }
   ],
   "source": [
    "# normal way\n",
    "lista = ['a','b','c','d','e']\n",
    "count = 0\n",
    "for l in lista:\n",
    "    print('Index:', count,' Value:', l)\n",
    "    count+=1\n",
    "print('')\n",
    "# enumerate way\n",
    "for count, l in enumerate(lista):\n",
    "    print('Index:', count,' Value:', l)"
   ]
  },
  {
   "cell_type": "markdown",
   "id": "42e73048-e33b-45b6-b13b-2ed30351fe7f",
   "metadata": {},
   "source": [
    "### Decorators:\n",
    "Python Decorators are used to apply additional functionality to objects. They are used to provide more functionality without having to write additional code inside the object. For example, we can modify the returned value and display it from the decorator function"
   ]
  },
  {
   "cell_type": "code",
   "execution_count": 65,
   "id": "ba81868d-544c-4625-b1f8-43d2e76a3b73",
   "metadata": {},
   "outputs": [],
   "source": [
    "def make_upper(function):\n",
    "    def upper():\n",
    "        f = function()\n",
    "        print(f\"this is from origin value: {f}\")\n",
    "        return f.upper()\n",
    "    return upper"
   ]
  },
  {
   "cell_type": "code",
   "execution_count": 66,
   "id": "9d33948b-8bd3-458c-a177-572c8f07972a",
   "metadata": {},
   "outputs": [],
   "source": [
    "def helloworld():\n",
    "    return \"hello world\""
   ]
  },
  {
   "cell_type": "code",
   "execution_count": 67,
   "id": "3200d75f-e389-44f9-bfd4-99042aedbfc3",
   "metadata": {},
   "outputs": [
    {
     "data": {
      "text/plain": [
       "'hello world'"
      ]
     },
     "execution_count": 67,
     "metadata": {},
     "output_type": "execute_result"
    }
   ],
   "source": [
    "helloworld()"
   ]
  },
  {
   "cell_type": "code",
   "execution_count": 68,
   "id": "bdeba1c7-5ed0-46e1-b6ae-92d92d142c7b",
   "metadata": {},
   "outputs": [],
   "source": [
    "@make_upper\n",
    "def helloworld():\n",
    "    return \"hello world\""
   ]
  },
  {
   "cell_type": "code",
   "execution_count": 69,
   "id": "dbed7062-1088-4af3-8085-15bc2d29e6f5",
   "metadata": {},
   "outputs": [
    {
     "name": "stdout",
     "output_type": "stream",
     "text": [
      "this is from origin value: hello world\n"
     ]
    },
    {
     "data": {
      "text/plain": [
       "'HELLO WORLD'"
      ]
     },
     "execution_count": 69,
     "metadata": {},
     "output_type": "execute_result"
    }
   ],
   "source": [
    "helloworld()"
   ]
  },
  {
   "cell_type": "code",
   "execution_count": 6,
   "id": "2653ac10-c066-44f8-bc5d-637a9c996006",
   "metadata": {},
   "outputs": [
    {
     "name": "stdout",
     "output_type": "stream",
     "text": [
      "Try read data from rest API\n",
      "Exception thrown when attempting to run <function get_from_rest at 0x72bfb3b15b40>, attempt 0 of 3\n",
      "Try read data from rest API\n",
      "Exception thrown when attempting to run <function get_from_rest at 0x72bfb3b15b40>, attempt 1 of 3\n",
      "Try read data from rest API\n",
      "Exception thrown when attempting to run <function get_from_rest at 0x72bfb3b15b40>, attempt 2 of 3\n",
      "Try read data from rest API\n"
     ]
    },
    {
     "ename": "ConnectionError",
     "evalue": "Lack of connection",
     "output_type": "error",
     "traceback": [
      "\u001b[0;31m---------------------------------------------------------------------------\u001b[0m",
      "\u001b[0;31mConnectionError\u001b[0m                           Traceback (most recent call last)",
      "Cell \u001b[0;32mIn[6], line 29\u001b[0m\n\u001b[1;32m     25\u001b[0m     \u001b[38;5;28mprint\u001b[39m(\u001b[38;5;124m'\u001b[39m\u001b[38;5;124mTry read data from rest API\u001b[39m\u001b[38;5;124m'\u001b[39m)\n\u001b[1;32m     27\u001b[0m     \u001b[38;5;28;01mraise\u001b[39;00m \u001b[38;5;167;01mConnectionError\u001b[39;00m (\u001b[38;5;124m'\u001b[39m\u001b[38;5;124mLack of connection\u001b[39m\u001b[38;5;124m'\u001b[39m)\n\u001b[0;32m---> 29\u001b[0m \u001b[43mget_from_rest\u001b[49m\u001b[43m(\u001b[49m\u001b[43m)\u001b[49m\n",
      "Cell \u001b[0;32mIn[6], line 19\u001b[0m, in \u001b[0;36mretry.<locals>.decorator.<locals>.newfn\u001b[0;34m(*args, **kwargs)\u001b[0m\n\u001b[1;32m     17\u001b[0m         attempt \u001b[38;5;241m+\u001b[39m\u001b[38;5;241m=\u001b[39m \u001b[38;5;241m1\u001b[39m\n\u001b[1;32m     18\u001b[0m time\u001b[38;5;241m.\u001b[39msleep(wait)\n\u001b[0;32m---> 19\u001b[0m \u001b[38;5;28;01mreturn\u001b[39;00m \u001b[43mfunc\u001b[49m\u001b[43m(\u001b[49m\u001b[38;5;241;43m*\u001b[39;49m\u001b[43margs\u001b[49m\u001b[43m,\u001b[49m\u001b[43m \u001b[49m\u001b[38;5;241;43m*\u001b[39;49m\u001b[38;5;241;43m*\u001b[39;49m\u001b[43mkwargs\u001b[49m\u001b[43m)\u001b[49m\n",
      "Cell \u001b[0;32mIn[6], line 27\u001b[0m, in \u001b[0;36mget_from_rest\u001b[0;34m()\u001b[0m\n\u001b[1;32m     23\u001b[0m \u001b[38;5;129m@retry\u001b[39m(times\u001b[38;5;241m=\u001b[39m\u001b[38;5;241m3\u001b[39m, wait\u001b[38;5;241m=\u001b[39m\u001b[38;5;241m2\u001b[39m)\n\u001b[1;32m     24\u001b[0m \u001b[38;5;28;01mdef\u001b[39;00m \u001b[38;5;21mget_from_rest\u001b[39m():\n\u001b[1;32m     25\u001b[0m     \u001b[38;5;28mprint\u001b[39m(\u001b[38;5;124m'\u001b[39m\u001b[38;5;124mTry read data from rest API\u001b[39m\u001b[38;5;124m'\u001b[39m)\n\u001b[0;32m---> 27\u001b[0m     \u001b[38;5;28;01mraise\u001b[39;00m \u001b[38;5;167;01mConnectionError\u001b[39;00m (\u001b[38;5;124m'\u001b[39m\u001b[38;5;124mLack of connection\u001b[39m\u001b[38;5;124m'\u001b[39m)\n",
      "\u001b[0;31mConnectionError\u001b[0m: Lack of connection"
     ]
    }
   ],
   "source": [
    "import time\n",
    "\n",
    "def retry(times, wait):\n",
    "\n",
    "    def decorator(func):\n",
    "        def newfn(*args, **kwargs):\n",
    "            attempt = 0\n",
    "            while attempt < times:\n",
    "                try:\n",
    "                    time.sleep(wait)\n",
    "                    return func(*args, **kwargs)\n",
    "                except Exception as e:\n",
    "                    print(\n",
    "                        'Exception thrown when attempting to run %s, attempt '\n",
    "                        '%d of %d' % (func, attempt, times)\n",
    "                    )\n",
    "                    attempt += 1\n",
    "            time.sleep(wait)\n",
    "            return func(*args, **kwargs)\n",
    "        return newfn\n",
    "    return decorator\n",
    "\n",
    "@retry(times=3, wait=2)\n",
    "def get_from_rest():\n",
    "    print('Try read data from rest API')\n",
    "\n",
    "    raise ConnectionError ('Lack of connection')\n",
    "\n",
    "get_from_rest()"
   ]
  },
  {
   "cell_type": "markdown",
   "id": "fecd2b65-38ca-450a-afd0-c0a84d19088b",
   "metadata": {},
   "source": [
    "#### An easy way to understand what is a decorator and how you use it.\n",
    "\n",
    "To my knowledge, a decorator is a function that changes another function's behaviour without having to change the base function's underlying structure or code.\n",
    "\n",
    "It reduces code duplication, make your code more reusable, readably and cleaner.\n",
    "\n",
    "Decorators are used heavily in frameworks like flask, django and fast api."
   ]
  },
  {
   "cell_type": "code",
   "execution_count": 7,
   "id": "84aada08-f49f-4e11-94aa-a120edb87a63",
   "metadata": {},
   "outputs": [],
   "source": [
    "def get_biriyani(): # a function that gets you biriyani.\n",
    "    print(\"Here's your biriyani\")"
   ]
  },
  {
   "cell_type": "code",
   "execution_count": 9,
   "id": "27386015-9c04-4242-b185-d24bcec5573b",
   "metadata": {},
   "outputs": [
    {
     "name": "stdout",
     "output_type": "stream",
     "text": [
      "Here's your biriyani\n"
     ]
    }
   ],
   "source": [
    "get_biriyani() # voila!"
   ]
  },
  {
   "cell_type": "code",
   "execution_count": 26,
   "id": "3ddd60c3-eeaa-4a57-bc38-33f41354520f",
   "metadata": {},
   "outputs": [],
   "source": [
    "# now we wanna add some flavours to our biriyani like do we want chicken biriyani or beef biriyani \n",
    "# or even better a kacchi biriyani!!!\n",
    "\n",
    "# but we would not want to change our base function because lets face it, not everyone has the same taste and may choose their own version\n",
    "# of biriyani and thats completely okay!\n",
    "\n",
    "# so to avoid changing our base function code and achieve our goal where everyone would get the biriyani of their own choosing\n",
    "# we use decorators here\n",
    "\n",
    "def add_flavour(func): # this function accepts a function as a parameter\n",
    "    def wrapper(*args, **kwargs):\n",
    "        print(\"Adding your flavour!\")\n",
    "        func(*args, **kwargs)\n",
    "    return wrapper\n",
    "\n",
    "@add_flavour\n",
    "def get_biriyani(flavour): # a function that gets you biriyani.\n",
    "    print(f\"Here's your {flavour} biriyani\")"
   ]
  },
  {
   "cell_type": "code",
   "execution_count": 27,
   "id": "f099cd5e-d841-48e3-a962-7ad020e6f6c8",
   "metadata": {},
   "outputs": [
    {
     "name": "stdout",
     "output_type": "stream",
     "text": [
      "Adding your flavour!\n",
      "Here's your chicken biriyani\n"
     ]
    }
   ],
   "source": [
    "get_biriyani(\"chicken\")"
   ]
  },
  {
   "cell_type": "markdown",
   "id": "18b9d96e-0c57-4a85-8a88-f4e9f77fa1ad",
   "metadata": {},
   "source": [
    "### Data Class\n",
    "A data class in Python is a specially structured class that is optimized for the storage and representation of data. Data classes have certain built-in functions to take care of the representation of data as well as its storage.\n",
    "\n",
    "Data class takes care of things like displaying values, and object comparison. We don’t need to use a constructor to assign values. You don’t need to implement __repr__, __eq__, or __hash__ for debugging and object comparison."
   ]
  },
  {
   "cell_type": "code",
   "execution_count": 28,
   "id": "c5c0eaaa-a84c-4b5b-9bcc-44023c96faa1",
   "metadata": {},
   "outputs": [],
   "source": [
    "from dataclasses import dataclass\n",
    "\n",
    "@dataclass #dataclass decorator\n",
    "class customerD:\n",
    "    name: str\n",
    "    id: int\n",
    "    surname: str\n",
    "\n",
    "class customer:\n",
    "    def __init__(self, name, aid, books):\n",
    "        self.name = name\n",
    "        self.aid = aid\n",
    "        self.surname = books"
   ]
  },
  {
   "cell_type": "code",
   "execution_count": 30,
   "id": "8b9e145b-8f90-4447-a9a3-e3815f6c4efb",
   "metadata": {},
   "outputs": [],
   "source": [
    "obj1 = customer(\"Mahmud\", 1234, \"Humayun\")\n",
    "obj2 = customerD(\"Hasan\", 2341, \"Ahmed\")"
   ]
  },
  {
   "cell_type": "code",
   "execution_count": 31,
   "id": "87605c1f-5b86-4c1d-98e8-b6a69e24d025",
   "metadata": {},
   "outputs": [
    {
     "data": {
      "text/plain": [
       "<__main__.customer at 0x72bfbcd4cf70>"
      ]
     },
     "execution_count": 31,
     "metadata": {},
     "output_type": "execute_result"
    }
   ],
   "source": [
    "obj1"
   ]
  },
  {
   "cell_type": "code",
   "execution_count": 32,
   "id": "42e8fdcf-61f0-4eac-8186-6cd84d8a1832",
   "metadata": {},
   "outputs": [
    {
     "data": {
      "text/plain": [
       "customerD(name='Hasan', id=2341, surname='Ahmed')"
      ]
     },
     "execution_count": 32,
     "metadata": {},
     "output_type": "execute_result"
    }
   ],
   "source": [
    "obj2"
   ]
  },
  {
   "cell_type": "code",
   "execution_count": 33,
   "id": "6c6c9897-5f3d-42c6-9914-ec4d726fb1d0",
   "metadata": {},
   "outputs": [],
   "source": [
    "obj3 = customerD(\"Hasan\", 2341, \"Ahmed\")"
   ]
  },
  {
   "cell_type": "code",
   "execution_count": 35,
   "id": "22e8b2a9-6e45-45c8-9f43-78d06e0799bb",
   "metadata": {},
   "outputs": [
    {
     "data": {
      "text/plain": [
       "True"
      ]
     },
     "execution_count": 35,
     "metadata": {},
     "output_type": "execute_result"
    }
   ],
   "source": [
    "obj2 == obj3 # built in equality check"
   ]
  },
  {
   "cell_type": "markdown",
   "id": "018d7713-ab92-4942-a4cb-bac4abcce01f",
   "metadata": {},
   "source": [
    "Easy way to convert to dictionary or tuple. It simplifies the code when we need to operate on this format and save data in JSON output."
   ]
  },
  {
   "cell_type": "code",
   "execution_count": 37,
   "id": "d8cc09a6-4ee1-4c19-ba85-26313a85b1b2",
   "metadata": {},
   "outputs": [
    {
     "name": "stdout",
     "output_type": "stream",
     "text": [
      "('Erick', 1254, 'Nowak')\n",
      "{'name': 'Erick', 'id': 1254, 'surname': 'Nowak'}\n"
     ]
    },
    {
     "data": {
      "text/plain": [
       "'{\"name\": \"Erick\", \"id\": 1254, \"surname\": \"Nowak\"}'"
      ]
     },
     "execution_count": 37,
     "metadata": {},
     "output_type": "execute_result"
    }
   ],
   "source": [
    "from dataclasses import dataclass, astuple, asdict\n",
    "import json\n",
    "\n",
    "@dataclass #dataclass decorator\n",
    "class customer:\n",
    " name: str #Type Hints\n",
    " id: int\n",
    " surname: str\n",
    "\n",
    "\n",
    "Obj1 = customer(\"Erick\",1254,\"Nowak\")\n",
    "\n",
    "print(astuple(Obj1))\n",
    "print(asdict(Obj1))\n",
    "\n",
    "# Output:\n",
    "# ('Erick', 1254, 'Nowak')\n",
    "# {'name': 'Erick', 'id': 1254, 'surname': 'Nowak'}\n",
    "\n",
    "json.dumps(asdict(Obj1))"
   ]
  },
  {
   "cell_type": "markdown",
   "id": "cf90692f-7dbd-4097-9441-45d1262ec7b0",
   "metadata": {},
   "source": [
    "### Concurrency vs Parallelism\n",
    "Concurrency and parallelism are names for two different mechanisms for task execution in a script. For a data engineer, these techniques will help to speed up the process of retrieving data from API or transforming data.\n",
    "\n",
    "#### Multithreading Pools\n",
    "Multithreading is a way to achieve parallelism by executing multiple threads of code. A thread is a lightweight process that shares the same memory space as the parent process. To use multi-threading pools in Python, you can use the `ThreadPoolExecutor` class from the `concurrent.futures` module. Using threads we can parallel calls to API to retrieve data."
   ]
  },
  {
   "cell_type": "code",
   "execution_count": 38,
   "id": "292de3d9-46f5-431e-b2b1-3ce82c3a3197",
   "metadata": {},
   "outputs": [
    {
     "name": "stdout",
     "output_type": "stream",
     "text": [
      "b'404 NotFound - Not Found - Brak danych'\n",
      "b'{\"table\":\"A\",\"currency\":\"funt szterling\",\"code\":\"GBP\",\"rates\":[{\"no\":\"190/A/NBP/2023\",\"effectiveDate\":\"2023-10-02\",\"mid\":5.3183}]}'\n",
      "b'{\"table\":\"A\",\"currency\":\"funt szterling\",\"code\":\"GBP\",\"rates\":[{\"no\":\"191/A/NBP/2023\",\"effectiveDate\":\"2023-10-03\",\"mid\":5.3195}]}'\n",
      "b'{\"table\":\"A\",\"currency\":\"funt szterling\",\"code\":\"GBP\",\"rates\":[{\"no\":\"192/A/NBP/2023\",\"effectiveDate\":\"2023-10-04\",\"mid\":5.3492}]}'\n",
      "b'{\"table\":\"A\",\"currency\":\"funt szterling\",\"code\":\"GBP\",\"rates\":[{\"no\":\"193/A/NBP/2023\",\"effectiveDate\":\"2023-10-05\",\"mid\":5.3057}]}'\n",
      "b'{\"table\":\"A\",\"currency\":\"funt szterling\",\"code\":\"GBP\",\"rates\":[{\"no\":\"194/A/NBP/2023\",\"effectiveDate\":\"2023-10-06\",\"mid\":5.3195}]}'\n",
      "b'404 NotFound - Not Found - Brak danych'\n",
      "b'404 NotFound - Not Found - Brak danych'\n",
      "b'{\"table\":\"A\",\"currency\":\"funt szterling\",\"code\":\"GBP\",\"rates\":[{\"no\":\"195/A/NBP/2023\",\"effectiveDate\":\"2023-10-09\",\"mid\":5.2897}]}'\n",
      "b'{\"table\":\"A\",\"currency\":\"funt szterling\",\"code\":\"GBP\",\"rates\":[{\"no\":\"196/A/NBP/2023\",\"effectiveDate\":\"2023-10-10\",\"mid\":5.2747}]}'\n",
      "b'{\"table\":\"A\",\"currency\":\"funt szterling\",\"code\":\"GBP\",\"rates\":[{\"no\":\"197/A/NBP/2023\",\"effectiveDate\":\"2023-10-11\",\"mid\":5.2304}]}'\n",
      "b'{\"table\":\"A\",\"currency\":\"funt szterling\",\"code\":\"GBP\",\"rates\":[{\"no\":\"198/A/NBP/2023\",\"effectiveDate\":\"2023-10-12\",\"mid\":5.2452}]}'\n",
      "b'{\"table\":\"A\",\"currency\":\"funt szterling\",\"code\":\"GBP\",\"rates\":[{\"no\":\"199/A/NBP/2023\",\"effectiveDate\":\"2023-10-13\",\"mid\":5.2563}]}'\n",
      "b'404 NotFound - Not Found - Brak danych'\n",
      "b'404 NotFound - Not Found - Brak danych'\n",
      "b'{\"table\":\"A\",\"currency\":\"funt szterling\",\"code\":\"GBP\",\"rates\":[{\"no\":\"200/A/NBP/2023\",\"effectiveDate\":\"2023-10-16\",\"mid\":5.1683}]}'\n",
      "b'{\"table\":\"A\",\"currency\":\"funt szterling\",\"code\":\"GBP\",\"rates\":[{\"no\":\"201/A/NBP/2023\",\"effectiveDate\":\"2023-10-17\",\"mid\":5.1222}]}'\n",
      "b'{\"table\":\"A\",\"currency\":\"funt szterling\",\"code\":\"GBP\",\"rates\":[{\"no\":\"202/A/NBP/2023\",\"effectiveDate\":\"2023-10-18\",\"mid\":5.1283}]}'\n",
      "b'{\"table\":\"A\",\"currency\":\"funt szterling\",\"code\":\"GBP\",\"rates\":[{\"no\":\"203/A/NBP/2023\",\"effectiveDate\":\"2023-10-19\",\"mid\":5.1171}]}'\n",
      "b'{\"table\":\"A\",\"currency\":\"funt szterling\",\"code\":\"GBP\",\"rates\":[{\"no\":\"204/A/NBP/2023\",\"effectiveDate\":\"2023-10-20\",\"mid\":5.1159}]}'\n",
      "b'404 NotFound - Not Found - Brak danych'\n",
      "b'404 NotFound - Not Found - Brak danych'\n",
      "b'{\"table\":\"A\",\"currency\":\"funt szterling\",\"code\":\"GBP\",\"rates\":[{\"no\":\"205/A/NBP/2023\",\"effectiveDate\":\"2023-10-23\",\"mid\":5.1103}]}'\n",
      "b'{\"table\":\"A\",\"currency\":\"funt szterling\",\"code\":\"GBP\",\"rates\":[{\"no\":\"206/A/NBP/2023\",\"effectiveDate\":\"2023-10-24\",\"mid\":5.1366}]}'\n",
      "b'{\"table\":\"A\",\"currency\":\"funt szterling\",\"code\":\"GBP\",\"rates\":[{\"no\":\"207/A/NBP/2023\",\"effectiveDate\":\"2023-10-25\",\"mid\":5.1328}]}'\n",
      "b'{\"table\":\"A\",\"currency\":\"funt szterling\",\"code\":\"GBP\",\"rates\":[{\"no\":\"208/A/NBP/2023\",\"effectiveDate\":\"2023-10-26\",\"mid\":5.1209}]}'\n",
      "b'{\"table\":\"A\",\"currency\":\"funt szterling\",\"code\":\"GBP\",\"rates\":[{\"no\":\"209/A/NBP/2023\",\"effectiveDate\":\"2023-10-27\",\"mid\":5.1266}]}'\n",
      "b'404 NotFound - Not Found - Brak danych'\n",
      "b'404 NotFound - Not Found - Brak danych'\n",
      "b'{\"table\":\"A\",\"currency\":\"funt szterling\",\"code\":\"GBP\",\"rates\":[{\"no\":\"210/A/NBP/2023\",\"effectiveDate\":\"2023-10-30\",\"mid\":5.0987}]}'\n",
      "b'{\"table\":\"A\",\"currency\":\"funt szterling\",\"code\":\"GBP\",\"rates\":[{\"no\":\"211/A/NBP/2023\",\"effectiveDate\":\"2023-10-31\",\"mid\":5.0823}]}'\n"
     ]
    }
   ],
   "source": [
    "import calendar\n",
    "from concurrent.futures import ThreadPoolExecutor\n",
    "import requests\n",
    "\n",
    "def generate_dates(year, month):\n",
    "    _, last_day = calendar.monthrange(year, month)\n",
    "\n",
    "    dates = [f\"{year}-{month:02d}-{day:02d}\" for day in range(1, last_day + 1)]\n",
    "    return dates\n",
    "\n",
    "year = 2023\n",
    "month = 10\n",
    "result = generate_dates(year, month)\n",
    "urls = []\n",
    "for x in result:\n",
    "    urls.append(f\"http://api.nbp.pl/api/exchangerates/rates/a/gbp/{x}/\")\n",
    "\n",
    "def download_page(url):\n",
    "    response = requests.get(url)\n",
    "    return response.content\n",
    "\n",
    "with ThreadPoolExecutor(max_workers=5) as executor:\n",
    "    results = list(executor.map(download_page, urls))\n",
    "\n",
    "for result in results:\n",
    "    print(result)"
   ]
  },
  {
   "cell_type": "markdown",
   "id": "9f1b7a76-6de3-42ae-903b-1f19a9b7acce",
   "metadata": {},
   "source": [
    "### Asynchronous Programming\n",
    "\n",
    "A note about concurrency and parallelism:\n",
    "\n",
    "True parallelism means an application runs multiple tasks at the same time where each task runs on a separate processing unit.\n",
    "\n",
    "Concurrency means that an application is making progress on more than one task at the same time but may switch between tasks instead of actually running them in parallel. \n",
    "\n",
    "This example from stackoverflow illustrates perfectly:\n",
    "**Concurrency is two lines of customers ordering from a single cashier (lines take turns ordering); Parallelism is two lines of customers ordering from two cashiers (each line gets its own cashier)**.\n",
    "\n",
    "Here in computer language: each customer is one task and each cashier is one processor and processor needs to take care of each customer/task concurrently or parallely. "
   ]
  },
  {
   "cell_type": "code",
   "execution_count": 40,
   "id": "46246007-63fe-44f3-8c33-0bcfd07ac324",
   "metadata": {},
   "outputs": [
    {
     "ename": "ImportError",
     "evalue": "cannot import name 'http_get' from 'req_http' (/home/mahmudhasan/Work/problem_solving/LeetCode-Supremacy/pythonforDE/req_http.py)",
     "output_type": "error",
     "traceback": [
      "\u001b[0;31m---------------------------------------------------------------------------\u001b[0m",
      "\u001b[0;31mImportError\u001b[0m                               Traceback (most recent call last)",
      "Cell \u001b[0;32mIn[40], line 6\u001b[0m\n\u001b[1;32m      3\u001b[0m \u001b[38;5;28;01mfrom\u001b[39;00m \u001b[38;5;21;01mtime\u001b[39;00m \u001b[38;5;28;01mimport\u001b[39;00m perf_counter\n\u001b[1;32m      4\u001b[0m \u001b[38;5;28;01mfrom\u001b[39;00m \u001b[38;5;21;01mtyping\u001b[39;00m \u001b[38;5;28;01mimport\u001b[39;00m Any, Awaitable\n\u001b[0;32m----> 6\u001b[0m \u001b[38;5;28;01mfrom\u001b[39;00m \u001b[38;5;21;01mreq_http\u001b[39;00m \u001b[38;5;28;01mimport\u001b[39;00m http_get, http_get_sync\n\u001b[1;32m      8\u001b[0m \u001b[38;5;66;03m# The highest Pokemon id\u001b[39;00m\n\u001b[1;32m      9\u001b[0m MAX_POKEMON \u001b[38;5;241m=\u001b[39m \u001b[38;5;241m898\u001b[39m\n",
      "\u001b[0;31mImportError\u001b[0m: cannot import name 'http_get' from 'req_http' (/home/mahmudhasan/Work/problem_solving/LeetCode-Supremacy/pythonforDE/req_http.py)"
     ]
    }
   ],
   "source": [
    "import asyncio\n",
    "from random import randint\n",
    "from time import perf_counter\n",
    "from typing import Any, Awaitable\n",
    "\n",
    "from req_http import http_get, http_get_sync\n",
    "\n",
    "# The highest Pokemon id\n",
    "MAX_POKEMON = 898\n",
    "\n",
    "def get_random_pokemon_name_sync() -> str:\n",
    "    pokemon_id = randint(1, MAX_POKEMON)\n",
    "    pokemon_url = f\"https://pokeapi.co/api/v2/pokemon/{pokemon_id}\"\n",
    "    pokemon = http_get_sync(pokemon_url)\n",
    "    return str(pokemon[\"name\"])\n",
    "\n",
    "\n",
    "async def get_random_pokemon_name() -> str:\n",
    "    pokemon_id = randint(1, MAX_POKEMON)\n",
    "    pokemon_url = f\"https://pokeapi.co/api/v2/pokemon/{pokemon_id}\"\n",
    "    pokemon = await http_get(pokemon_url)\n",
    "    return str(pokemon[\"name\"])\n",
    "\n",
    "\n",
    "async def main() -> None:\n",
    "\n",
    "    # synchronous call\n",
    "    time_before = perf_counter()\n",
    "    for _ in range(20):\n",
    "        get_random_pokemon_name_sync()\n",
    "    print(f\"Total time (synchronous): {perf_counter() - time_before}\")\n",
    "\n",
    "    # asynchronous call\n",
    "    time_before = perf_counter()\n",
    "    await asyncio.gather(*[get_random_pokemon_name() for _ in range(20)])\n",
    "    print(f\"Total time (asynchronous): {perf_counter() - time_before}\")\n",
    "\n",
    "\n",
    "asyncio.run(main())\n"
   ]
  }
 ],
 "metadata": {
  "kernelspec": {
   "display_name": "Python 3 (ipykernel)",
   "language": "python",
   "name": "python3"
  },
  "language_info": {
   "codemirror_mode": {
    "name": "ipython",
    "version": 3
   },
   "file_extension": ".py",
   "mimetype": "text/x-python",
   "name": "python",
   "nbconvert_exporter": "python",
   "pygments_lexer": "ipython3",
   "version": "3.10.16"
  }
 },
 "nbformat": 4,
 "nbformat_minor": 5
}
