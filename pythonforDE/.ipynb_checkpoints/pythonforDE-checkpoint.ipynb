{
 "cells": [
  {
   "cell_type": "markdown",
   "id": "d968c4d6-8c76-402e-8764-ed3ab26a55bb",
   "metadata": {},
   "source": [
    "## Python for Data Engineering\n",
    "\n",
    "Python plays a crucial role in the world of data engineering, offering versatile and powerful libraries. It has been adopted in various domains, including data science, machine learning, AI, data visualization, and data engineering. Python is widely used in big data processing through frameworks like Apache Spark, workflow orchestration, web scraping, and more. In this post, I’ll present the useful elements of this language and its use cases for data engineering."
   ]
  },
  {
   "cell_type": "markdown",
   "id": "82542d6a-1e12-4f6a-9558-4b61771fcbf4",
   "metadata": {},
   "source": [
    "A little walkthrough with some built-in data structures that python provides. \n",
    "- list\n",
    "- tuple\n",
    "- dictionary\n",
    "- set"
   ]
  },
  {
   "cell_type": "markdown",
   "id": "6a2f94ec-0b6d-4e90-8895-d0b439b5ab4b",
   "metadata": {},
   "source": [
    "### list\n",
    "\n",
    "Mutable: Lists are mutable, meaning you can modify their elements after the list is created. You can add, remove, or modify elements."
   ]
  },
  {
   "cell_type": "code",
   "execution_count": 1,
   "id": "f8a36620-08af-4786-8329-44879ec9c699",
   "metadata": {},
   "outputs": [],
   "source": [
    "my_list = [1, 2, 3, 'a', 'b', 'c']\n",
    "my_list.append(4)     # Adds 4 to the end of the list\n",
    "my_list.remove('a')  # Removes the element 'a'"
   ]
  },
  {
   "cell_type": "code",
   "execution_count": 2,
   "id": "cd3f123c-c0dd-4e84-a675-45e19ba8df63",
   "metadata": {},
   "outputs": [
    {
     "name": "stdout",
     "output_type": "stream",
     "text": [
      "[1, 2, 3, 'b', 'c', 4]\n"
     ]
    }
   ],
   "source": [
    "print(my_list)"
   ]
  },
  {
   "cell_type": "markdown",
   "id": "bd7435cb-e808-41d3-abe8-5f438d68e6b1",
   "metadata": {},
   "source": [
    "### List Operations\n",
    "**Some useful operations you can use with lists:**\n",
    "- list comprehension\n",
    "- filer\n",
    "- map\n",
    "- reduce"
   ]
  },
  {
   "cell_type": "markdown",
   "id": "11a084c1-14ea-4018-a6d5-0b5dfd2bbe6a",
   "metadata": {
    "jp-MarkdownHeadingCollapsed": true
   },
   "source": [
    "#### list comprehension\n",
    "List comprehension offers a shorter syntax when you want to create a new list based on the values of an existing list. This allows you to simplify code."
   ]
  },
  {
   "cell_type": "code",
   "execution_count": 9,
   "id": "ae0d0e34-007a-41fc-b236-a0508464bb55",
   "metadata": {},
   "outputs": [
    {
     "name": "stdout",
     "output_type": "stream",
     "text": [
      "[0, 1, 8, 27, 64, 125, 216, 343, 512, 729]\n"
     ]
    }
   ],
   "source": [
    "cubes = []\n",
    "\n",
    "# normal syntax\n",
    "for i in range(10):\n",
    "    cubes.append(i**3)\n",
    "print(cubes)"
   ]
  },
  {
   "cell_type": "code",
   "execution_count": 10,
   "id": "d59cbbfa-81b3-4507-950b-c08235827c33",
   "metadata": {},
   "outputs": [
    {
     "name": "stdout",
     "output_type": "stream",
     "text": [
      "[0, 1, 8, 27, 64, 125, 216, 343, 512, 729]\n"
     ]
    }
   ],
   "source": [
    "# with list comprehension\n",
    "\n",
    "cubes = [i**3 for i in range(10)]\n",
    "print(cubes)"
   ]
  },
  {
   "cell_type": "markdown",
   "id": "58641c60-d656-4cb1-9430-05c0e795f234",
   "metadata": {
    "jp-MarkdownHeadingCollapsed": true
   },
   "source": [
    "#### Filter\n",
    "Filter as the name suggests helps to filter your list using filter conditions."
   ]
  },
  {
   "cell_type": "code",
   "execution_count": 11,
   "id": "a4c8a111-4274-49d9-a45e-0ad71f18e73b",
   "metadata": {},
   "outputs": [],
   "source": [
    "numbers = [1, 2, 3, 4, 5, 6, 7, 8, 9]\n",
    "\n",
    "# Filter even numbers\n",
    "even_numbers = list(filter(lambda x: x % 2 == 0, numbers))\n",
    "# Output: [2, 4, 6, 8]"
   ]
  },
  {
   "cell_type": "code",
   "execution_count": 12,
   "id": "5e282a04-45ba-48c2-a5a0-bfb64d10a2a3",
   "metadata": {},
   "outputs": [
    {
     "name": "stdout",
     "output_type": "stream",
     "text": [
      "[2, 4, 6, 8]\n"
     ]
    }
   ],
   "source": [
    "print(even_numbers)"
   ]
  },
  {
   "cell_type": "markdown",
   "id": "ad9c94a0-111b-439f-827b-dc755ea227bc",
   "metadata": {
    "jp-MarkdownHeadingCollapsed": true
   },
   "source": [
    "#### Lambda Function\n",
    "We're taking a quick detour from our course as we've encountered anonymous function(lambda function).\n",
    "\n",
    "```\n",
    "lambda x: x % 2 == 0, numbers)\n",
    "```\n",
    "This is an anonymous function (lambda function) that takes an input `x` and returns `True` if `x` is even `(x % 2 == 0)`, otherwise `False`.\n",
    "\n",
    "The `filter` function works hand in hand here taking the lambda function as input and applies it to each element in `numbers`. \n",
    "** It keeps only the elements for which the lambda function returns True (i.e., even numbers)."
   ]
  },
  {
   "cell_type": "code",
   "execution_count": 13,
   "id": "9fddf58c-8a47-46aa-acb3-89711a2028ef",
   "metadata": {},
   "outputs": [],
   "source": [
    "# we could use a regular function instead of a lamdba function\n",
    "\n",
    "def is_even(x):\n",
    "    return x%2 == 0"
   ]
  },
  {
   "cell_type": "code",
   "execution_count": 14,
   "id": "b5ceec96-c148-4190-a1d4-8846ed3e0323",
   "metadata": {},
   "outputs": [
    {
     "name": "stdout",
     "output_type": "stream",
     "text": [
      "True\n"
     ]
    }
   ],
   "source": [
    "print(is_even(10))"
   ]
  },
  {
   "cell_type": "code",
   "execution_count": 22,
   "id": "0268bad8-64f9-471e-ab4b-fc0c1233bc36",
   "metadata": {},
   "outputs": [],
   "source": [
    "result = filter(is_even, numbers) # filter() returns a filter object(an iterator)"
   ]
  },
  {
   "cell_type": "markdown",
   "id": "cd6a9b7c-76b8-4dc8-8edf-f8577a367d88",
   "metadata": {},
   "source": [
    "N.B: **By definition, an iterator can be iterated through once, producing all values, and is then exhausted.**"
   ]
  },
  {
   "cell_type": "code",
   "execution_count": 23,
   "id": "93ce5479-942a-477c-949f-d586c0ad7d92",
   "metadata": {},
   "outputs": [
    {
     "data": {
      "text/plain": [
       "<filter at 0x7939b814d5a0>"
      ]
     },
     "execution_count": 23,
     "metadata": {},
     "output_type": "execute_result"
    }
   ],
   "source": [
    "result"
   ]
  },
  {
   "cell_type": "code",
   "execution_count": 24,
   "id": "d6d015e5-1f6a-4c2a-8d02-527ceffc411b",
   "metadata": {},
   "outputs": [
    {
     "name": "stdout",
     "output_type": "stream",
     "text": [
      "2\n",
      "4\n",
      "6\n",
      "8\n"
     ]
    }
   ],
   "source": [
    "for i in result:\n",
    "    print(i)"
   ]
  },
  {
   "cell_type": "code",
   "execution_count": 25,
   "id": "164a0d43-933e-4af7-9d2b-3f72223a2353",
   "metadata": {},
   "outputs": [
    {
     "name": "stdout",
     "output_type": "stream",
     "text": [
      "[2, 4, 6, 8]\n"
     ]
    }
   ],
   "source": [
    "# or we can use list() to convert it into a list\n",
    "even_num = list(filter(is_even, numbers))\n",
    "print(even_num)"
   ]
  },
  {
   "cell_type": "markdown",
   "id": "4d882438-7a3a-4c68-910a-94b85450ca4e",
   "metadata": {
    "jp-MarkdownHeadingCollapsed": true
   },
   "source": [
    "#### Map\n",
    "The Map function allows us to use a function on a list of elements."
   ]
  },
  {
   "cell_type": "code",
   "execution_count": 26,
   "id": "13f82811-204c-4be0-a81e-20a8e938fab9",
   "metadata": {},
   "outputs": [],
   "source": [
    "def power2(val: int) -> int:\n",
    "    return val*val\n",
    "\n",
    "numbers = [1, 2, 3, 4, 5]\n",
    "\n",
    "power_numbers = list(map(power2, numbers))\n",
    "# OR\n",
    "squared_numbers = list(map(lambda x: x**2, numbers))\n",
    "\n",
    "# Output: [1, 4, 9, 16, 25]"
   ]
  },
  {
   "cell_type": "code",
   "execution_count": 27,
   "id": "cecf3dc6-d042-425b-b446-831c54ca22f6",
   "metadata": {},
   "outputs": [
    {
     "name": "stdout",
     "output_type": "stream",
     "text": [
      "[1, 2, 3, 4, 5]\n"
     ]
    }
   ],
   "source": [
    "print(numbers)"
   ]
  },
  {
   "cell_type": "code",
   "execution_count": 28,
   "id": "d165e5ed-9233-47f6-9323-8ed2c790e369",
   "metadata": {},
   "outputs": [
    {
     "name": "stdout",
     "output_type": "stream",
     "text": [
      "[1, 4, 9, 16, 25]\n"
     ]
    }
   ],
   "source": [
    "print(squared_numbers)"
   ]
  },
  {
   "cell_type": "markdown",
   "id": "40dd1acd-89ae-4be7-8137-f36357242f7a",
   "metadata": {
    "jp-MarkdownHeadingCollapsed": true
   },
   "source": [
    "#### reduce\n",
    "\n",
    "The `reduce()` function is a powerful tool in Python that operates on a list (or any iterable), applies a function to its elements, and ‘reduces’ them to a single output."
   ]
  },
  {
   "cell_type": "code",
   "execution_count": 39,
   "id": "196fefdf-8e03-4add-b9e0-7dc43fd3d9eb",
   "metadata": {},
   "outputs": [
    {
     "name": "stdout",
     "output_type": "stream",
     "text": [
      "{'apple': 2, 'banana': 2, 'orange': 1, 'grape': 1}\n",
      "120\n"
     ]
    }
   ],
   "source": [
    "from functools import reduce\n",
    "\n",
    "words = [\"apple\", \"banana\", \"orange\", \"apple\", \"grape\", \"banana\"]\n",
    "\n",
    "# Count the occurrences of each word\n",
    "word_counts = reduce(lambda counts, word: {**counts, word: counts.get(word, 0) + 1}, words, {})\n",
    "\n",
    "print(word_counts)\n",
    "# Output: {'apple': 2, 'banana': 2, 'orange': 1, 'grape': 1}\n",
    "\n",
    "\n",
    "numbers = [1, 2, 3, 4, 5]\n",
    "product = reduce((lambda x, y: x * y), numbers)\n",
    "print(product)\n",
    "\n",
    "# Output: 120"
   ]
  },
  {
   "cell_type": "markdown",
   "id": "9e36c7d5-a574-453e-bb39-3ad584396897",
   "metadata": {},
   "source": [
    "### Dictionary\n",
    "Dictionaries are used to store data values in key-value pairs. A dictionary is a collection that is changeable and does not allow duplicates in the keys."
   ]
  },
  {
   "cell_type": "code",
   "execution_count": 4,
   "id": "b81b9616-1225-422b-a98f-c05b7f5b4875",
   "metadata": {},
   "outputs": [],
   "source": [
    "thisdict = {\n",
    "  \"brand\": \"Ford\",\n",
    "  \"model\": \"Mustang\",\n",
    "  \"year\": 1964\n",
    "}"
   ]
  },
  {
   "cell_type": "code",
   "execution_count": 5,
   "id": "55cb12e0-918c-4dec-8136-d0d14aae72ac",
   "metadata": {},
   "outputs": [
    {
     "name": "stdout",
     "output_type": "stream",
     "text": [
      "{'brand': 'Ford', 'model': 'Mustang', 'year': 1964}\n"
     ]
    }
   ],
   "source": [
    "print(thisdict)"
   ]
  },
  {
   "cell_type": "markdown",
   "id": "84d599a7-1304-4c00-b724-3c2df5f9bc59",
   "metadata": {
    "jp-MarkdownHeadingCollapsed": true
   },
   "source": [
    "### Tuple\n",
    "Immutable: Tuples are immutable, meaning once they are created, their elements cannot be changed or modified. Unlike lists, you can’t add or remove elements from a tuple."
   ]
  },
  {
   "cell_type": "markdown",
   "id": "7d7d65b9-3dab-4c2d-ac62-c4d20ac45cde",
   "metadata": {
    "jp-MarkdownHeadingCollapsed": true
   },
   "source": [
    "### Set\n",
    "Unordered and Unique Elements: Sets are unordered collections of unique elements. They do not allow duplicate values, and the order of elements is not guaranteed.\n",
    "\n",
    "Syntax: Defined using curly braces {} or by using the set() constructor."
   ]
  },
  {
   "cell_type": "code",
   "execution_count": 7,
   "id": "398df706-3fe0-4bd0-b04e-9ab587ab054d",
   "metadata": {},
   "outputs": [
    {
     "name": "stdout",
     "output_type": "stream",
     "text": [
      "{1, 2, 3}\n"
     ]
    }
   ],
   "source": [
    "my_set = {1, 2, 3}\n",
    "my_set.add(1)\n",
    "my_set.add(1) # won't add 1 to the set\n",
    "print(my_set)"
   ]
  },
  {
   "cell_type": "code",
   "execution_count": 3,
   "id": "a5c4347f-1588-452c-b480-af9eef436fa4",
   "metadata": {},
   "outputs": [],
   "source": [
    "my_tuple = (1, 2, 3, 'a', 'b', 'c')"
   ]
  },
  {
   "cell_type": "markdown",
   "id": "f2fe1453-8e79-4da5-9cd1-6d3135a40227",
   "metadata": {},
   "source": [
    "### Generators\n",
    "Python provides a generator to create your iterator function. A generator is a special type of function that does not return a single value, instead, it returns an iterator object with a sequence of values. In a generator function, a yield keyword is used instead of a return. It allows you to create an iterator without loading the entire dataset into memory, making it suitable for processing huge files.\n",
    "\n",
    "Benefits of generators:\n",
    "- Memory efficient: Only stores the current value, not the entire list.\n",
    "- Faster Execution: Generates values on demand, reducing overhead.\n",
    "- Lazy Evaluation: Useful for large datasets or infinite sequences.\n",
    "- Better Performance: Avoids creating large lists in memory.\n",
    "\n",
    "When to use generators?\n",
    "- when dealing with large datasets (ex. reading big files line by line)\n",
    "- when you don't need to store all values at once \n",
    "- when you need lazy evaluation. (streaming data)"
   ]
  },
  {
   "cell_type": "code",
   "execution_count": 42,
   "id": "a606ea05-a227-424b-8724-445d0e00e919",
   "metadata": {},
   "outputs": [],
   "source": [
    "text = \"\"\"\n",
    "transaction_id,user\\r\n",
    "1,aaa\\r\n",
    "\\r\n",
    "2,xx\\r\n",
    "3,ccc\\r\n",
    "\\r\n",
    "\"\"\""
   ]
  },
  {
   "cell_type": "code",
   "execution_count": 44,
   "id": "d2296959-7776-4ba7-b384-14355f27a82a",
   "metadata": {},
   "outputs": [
    {
     "name": "stdout",
     "output_type": "stream",
     "text": [
      "\n",
      "transaction_id,user\n",
      "1,aaa\n",
      "\n",
      "2,xx\n",
      "3,ccc\n",
      "\n",
      "\n"
     ]
    }
   ],
   "source": [
    "print(text) # this is how it looks"
   ]
  },
  {
   "cell_type": "code",
   "execution_count": 49,
   "id": "6c6b1567-2334-432e-bcb4-36c6b4aca357",
   "metadata": {},
   "outputs": [
    {
     "data": {
      "text/plain": [
       "'TRANSACTION_ID,USER'"
      ]
     },
     "execution_count": 49,
     "metadata": {},
     "output_type": "execute_result"
    }
   ],
   "source": [
    "text.split(\"\\r\")[0].strip().upper() # e.g. of a processed line"
   ]
  },
  {
   "cell_type": "code",
   "execution_count": 63,
   "id": "8a110b95-360e-4ee1-b063-797696dc35d7",
   "metadata": {},
   "outputs": [],
   "source": [
    "# creating a generator function\n",
    "def process_large_files(text):\n",
    "    for line in text.split(\"\\r\"):\n",
    "        processed_line = line.strip().upper()\n",
    "        # print(\"begin processing\")\n",
    "        if processed_line != \"\":\n",
    "            # Yield the processed line\n",
    "            yield processed_line"
   ]
  },
  {
   "cell_type": "code",
   "execution_count": 64,
   "id": "901b380e-53b0-435c-b848-7453aaa91ae3",
   "metadata": {},
   "outputs": [
    {
     "name": "stdout",
     "output_type": "stream",
     "text": [
      "TRANSACTION_ID,USER\n",
      "1,AAA\n",
      "2,XX\n",
      "3,CCC\n"
     ]
    }
   ],
   "source": [
    "for processed_line in process_large_files(text):\n",
    "    print(processed_line)"
   ]
  },
  {
   "cell_type": "markdown",
   "id": "7af4deff-a6c3-4028-b782-8178bce9f67c",
   "metadata": {},
   "source": [
    "### Enumerate\n",
    "The enumerate function adds a counter to an iterable and returns it."
   ]
  },
  {
   "cell_type": "code",
   "execution_count": 41,
   "id": "508f1ca7-7daf-4633-9346-768eb307b0f2",
   "metadata": {},
   "outputs": [
    {
     "name": "stdout",
     "output_type": "stream",
     "text": [
      "Index: 0  Value: a\n",
      "Index: 1  Value: b\n",
      "Index: 2  Value: c\n",
      "Index: 3  Value: d\n",
      "Index: 4  Value: e\n",
      "\n",
      "Index: 0  Value: a\n",
      "Index: 1  Value: b\n",
      "Index: 2  Value: c\n",
      "Index: 3  Value: d\n",
      "Index: 4  Value: e\n"
     ]
    }
   ],
   "source": [
    "# normal way\n",
    "lista = ['a','b','c','d','e']\n",
    "count = 0\n",
    "for l in lista:\n",
    "    print('Index:', count,' Value:', l)\n",
    "    count+=1\n",
    "print('')\n",
    "# enumerate way\n",
    "for count, l in enumerate(lista):\n",
    "    print('Index:', count,' Value:', l)"
   ]
  },
  {
   "cell_type": "markdown",
   "id": "42e73048-e33b-45b6-b13b-2ed30351fe7f",
   "metadata": {},
   "source": [
    "### Decorators:\n",
    "Python Decorators are used to apply additional functionality to objects. They are used to provide more functionality without having to write additional code inside the object. For example, we can modify the returned value and display it from the decorator function"
   ]
  },
  {
   "cell_type": "code",
   "execution_count": 65,
   "id": "ba81868d-544c-4625-b1f8-43d2e76a3b73",
   "metadata": {},
   "outputs": [],
   "source": [
    "def make_upper(function):\n",
    "    def upper():\n",
    "        f = function()\n",
    "        print(f\"this is from origin value: {f}\")\n",
    "        return f.upper()\n",
    "    return upper"
   ]
  },
  {
   "cell_type": "code",
   "execution_count": 66,
   "id": "9d33948b-8bd3-458c-a177-572c8f07972a",
   "metadata": {},
   "outputs": [],
   "source": [
    "def helloworld():\n",
    "    return \"hello world\""
   ]
  },
  {
   "cell_type": "code",
   "execution_count": 67,
   "id": "3200d75f-e389-44f9-bfd4-99042aedbfc3",
   "metadata": {},
   "outputs": [
    {
     "data": {
      "text/plain": [
       "'hello world'"
      ]
     },
     "execution_count": 67,
     "metadata": {},
     "output_type": "execute_result"
    }
   ],
   "source": [
    "helloworld()"
   ]
  },
  {
   "cell_type": "code",
   "execution_count": 68,
   "id": "bdeba1c7-5ed0-46e1-b6ae-92d92d142c7b",
   "metadata": {},
   "outputs": [],
   "source": [
    "@make_upper\n",
    "def helloworld():\n",
    "    return \"hello world\""
   ]
  },
  {
   "cell_type": "code",
   "execution_count": 69,
   "id": "dbed7062-1088-4af3-8085-15bc2d29e6f5",
   "metadata": {},
   "outputs": [
    {
     "name": "stdout",
     "output_type": "stream",
     "text": [
      "this is from origin value: hello world\n"
     ]
    },
    {
     "data": {
      "text/plain": [
       "'HELLO WORLD'"
      ]
     },
     "execution_count": 69,
     "metadata": {},
     "output_type": "execute_result"
    }
   ],
   "source": [
    "helloworld()"
   ]
  }
 ],
 "metadata": {
  "kernelspec": {
   "display_name": "Python 3 (ipykernel)",
   "language": "python",
   "name": "python3"
  },
  "language_info": {
   "codemirror_mode": {
    "name": "ipython",
    "version": 3
   },
   "file_extension": ".py",
   "mimetype": "text/x-python",
   "name": "python",
   "nbconvert_exporter": "python",
   "pygments_lexer": "ipython3",
   "version": "3.10.16"
  }
 },
 "nbformat": 4,
 "nbformat_minor": 5
}
